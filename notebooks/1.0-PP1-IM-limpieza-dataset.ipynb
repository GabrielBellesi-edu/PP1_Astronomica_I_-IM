{
 "cells": [
  {
   "cell_type": "markdown",
   "id": "0cd66032-86fd-4535-ba19-971360505e66",
   "metadata": {
    "jp-MarkdownHeadingCollapsed": true
   },
   "source": [
    "<h1>Imports y preparacion</h1>"
   ]
  },
  {
   "cell_type": "code",
   "execution_count": null,
   "id": "446cf569-9e99-4a6c-848f-bf5501edc911",
   "metadata": {},
   "outputs": [],
   "source": [
    "import os\n",
    "import sys\n",
    "from pathlib import Path\n",
    "\n",
    "# Ruta absoluta a la raíz del proyecto\n",
    "root_path = Path(__file__).parent.parent.resolve() if '__file__' in globals() else Path().resolve().parent\n",
    "\n",
    "print(f\"Directorio raíz fijado a: {root_path}\")\n",
    "\n",
    "# Cambiar el directorio actual de trabajo a la raíz del proyecto\n",
    "os.chdir(root_path)\n",
    "\n",
    "# Comprobá dónde estás parado ahora\n",
    "print(f\"Directorio actual: {Path().resolve()}\")\n",
    "\n",
    "# Agrega raíz al sys.path si no está\n",
    "if str(root_path) not in sys.path:\n",
    "    sys.path.append(str(root_path))\n",
    "\n"
   ]
  },
  {
   "cell_type": "markdown",
   "id": "71923ab5-04ca-4014-95f9-de5528bb37e0",
   "metadata": {
    "jp-MarkdownHeadingCollapsed": true
   },
   "source": [
    "<h1>Conversion, Filtrado Ambig - Eliminacion de Columnas, Filtrado Rge y Consolidacion 2024</h1>"
   ]
  },
  {
   "cell_type": "code",
   "execution_count": null,
   "id": "f23bf47b-28c1-4177-ac07-eccf9858bfb4",
   "metadata": {},
   "outputs": [],
   "source": [
    "from src.limpieza.data_cleaning import (\n",
    "    convertir_mpd_a_csv,\n",
    "    filtro_ambig,\n",
    "    filtro_rge,\n",
    "    consolidar_csv\n",
    ")\n",
    "\n",
    "# Ejecutar funciones\n",
    "convertir_mpd_a_csv()\n",
    "filtro_ambig()\n",
    "filtro_rge()\n",
    "consolidar_csv()"
   ]
  },
  {
   "cell_type": "markdown",
   "id": "c461e685-dc47-45b9-b684-cd0d1889ddf8",
   "metadata": {
    "jp-MarkdownHeadingCollapsed": true
   },
   "source": [
    "<h1>Extras</h1>"
   ]
  },
  {
   "cell_type": "markdown",
   "id": "ef3d033b-ca9c-4886-9d67-59141b5c1d6a",
   "metadata": {},
   "source": [
    "<h2>filtrado RGE Mayores a 130</h2>"
   ]
  },
  {
   "cell_type": "code",
   "execution_count": null,
   "id": "1b21dba5-e614-4123-b959-4400cbe1d87e",
   "metadata": {},
   "outputs": [],
   "source": [
    "from src.limpieza.filtrado_extras_rge_superior import (\n",
    "    procesar_y_consolidar_rge\n",
    ")\n",
    "\n",
    "# Ejecutar funciones\n",
    "procesar_y_consolidar_rge()"
   ]
  },
  {
   "cell_type": "markdown",
   "id": "050c35be-2d80-4010-a057-c42ec1bb4ebd",
   "metadata": {},
   "source": [
    "<h2>filtrado RGE Menores a 100</h2>"
   ]
  },
  {
   "cell_type": "code",
   "execution_count": null,
   "id": "54afb3b4-5310-4247-ae17-b5d545c97049",
   "metadata": {},
   "outputs": [],
   "source": [
    "from src.limpieza.filtrado_extras_rge_inferior import (\n",
    "    procesar_y_consolidar_rge\n",
    ")\n",
    "\n",
    "# Ejecutar funciones\n",
    "procesar_y_consolidar_rge()"
   ]
  },
  {
   "cell_type": "markdown",
   "id": "23445cd7-1cc7-4c88-8cd4-1a3faf4ae0c7",
   "metadata": {},
   "source": [
    "<h2>Eliminacion de todos los datos salvo amax</h2>"
   ]
  },
  {
   "cell_type": "code",
   "execution_count": null,
   "id": "326e2375-5851-4bfd-a02d-0f6d45ac0266",
   "metadata": {},
   "outputs": [],
   "source": [
    "from src.limpieza.solo_amax import (\n",
    "    extraer_ultima_columna\n",
    ")\n",
    "\n",
    "# Ejecutar funciones\n",
    "extraer_ultima_columna(\"2024_consolidado\")\n",
    "\n",
    "\n"
   ]
  }
 ],
 "metadata": {
  "kernelspec": {
   "display_name": "Python 3 (ipykernel)",
   "language": "python",
   "name": "python3"
  },
  "language_info": {
   "codemirror_mode": {
    "name": "ipython",
    "version": 3
   },
   "file_extension": ".py",
   "mimetype": "text/x-python",
   "name": "python",
   "nbconvert_exporter": "python",
   "pygments_lexer": "ipython3",
   "version": "3.12.1"
  }
 },
 "nbformat": 4,
 "nbformat_minor": 5
}
